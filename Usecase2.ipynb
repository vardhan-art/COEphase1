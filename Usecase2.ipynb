{
 "cells": [
  {
   "cell_type": "code",
   "execution_count": null,
   "id": "df960139-4671-4407-a046-dcd48510db94",
   "metadata": {},
   "outputs": [],
   "source": [
    "#\n",
    "\"\"\" comment \"\"\"\""
   ]
  },
  {
   "cell_type": "code",
   "execution_count": 38,
   "id": "949d601c-859f-49d7-9d04-0b1f8ace4b6d",
   "metadata": {},
   "outputs": [],
   "source": [
    "#float-> int\n",
    "#string->int\n",
    "#string->float\n",
    "#int,float->string"
   ]
  },
  {
   "cell_type": "code",
   "execution_count": 40,
   "id": "e03826a6-8de3-4211-9fd6-9c2f6f20d480",
   "metadata": {},
   "outputs": [
    {
     "name": "stdout",
     "output_type": "stream",
     "text": [
      "90.0\n",
      "90\n"
     ]
    }
   ],
   "source": [
    "#float-> int\n",
    "a=90.0\n",
    "b=int(a)\n",
    "print(a)\n",
    "print(b)"
   ]
  },
  {
   "cell_type": "code",
   "execution_count": 27,
   "id": "91bd9fdb-c088-4fe9-a00b-1c6c0f11df43",
   "metadata": {},
   "outputs": [
    {
     "name": "stdout",
     "output_type": "stream",
     "text": [
      "255\n",
      "255\n"
     ]
    }
   ],
   "source": [
    "#string->int\n",
    "a=\"255\"\n",
    "b=int(a)\n",
    "print(a)\n",
    "print(b)"
   ]
  },
  {
   "cell_type": "code",
   "execution_count": 31,
   "id": "dfe2abe4-6538-4d2d-8be5-176f908a3616",
   "metadata": {},
   "outputs": [
    {
     "name": "stdout",
     "output_type": "stream",
     "text": [
      "4545\n",
      "4545.0\n"
     ]
    }
   ],
   "source": [
    "#string->float\n",
    "a='4545'\n",
    "b=float(a)\n",
    "print(a)\n",
    "print(b)"
   ]
  },
  {
   "cell_type": "code",
   "execution_count": 36,
   "id": "fe14c209-2423-4dcd-bbdc-e811a74b5342",
   "metadata": {},
   "outputs": [
    {
     "name": "stdout",
     "output_type": "stream",
     "text": [
      "20\n",
      "20.5\n"
     ]
    }
   ],
   "source": [
    "#int,float->string\n",
    "a=20\n",
    "b=20.5\n",
    "c=str(a)\n",
    "d=str(b)\n",
    "print(c)\n",
    "print(d)"
   ]
  },
  {
   "cell_type": "code",
   "execution_count": null,
   "id": "d98471ae-9520-4361-b450-ae97fdd059b5",
   "metadata": {},
   "outputs": [],
   "source": [
    "#why do we need the type of conversions \n",
    "\"To take the input in the form of the string, by default, it takes int value into the string\""
   ]
  },
  {
   "cell_type": "code",
   "execution_count": 64,
   "id": "fcac8b5c-d0a6-411e-a80a-843e0674098a",
   "metadata": {},
   "outputs": [
    {
     "name": "stdin",
     "output_type": "stream",
     "text": [
      "Enter your amount 7676\n"
     ]
    },
    {
     "name": "stdout",
     "output_type": "stream",
     "text": [
      "Please enter amount in multiple of 100\n"
     ]
    }
   ],
   "source": [
    "#ATM\n",
    "#Accepet withdraw amount and print number of notes\n",
    "#500,200,100\n",
    "\n",
    "ammount=int(input(\"Enter your amount\"))\n",
    "five=0\n",
    "two=0\n",
    "one=0\n",
    "if ammount%100==0:\n",
    "    if ammount>=500:\n",
    "        five=ammount//500\n",
    "        print(\"500 rupess notes are\",five)\n",
    "        ammount=ammount-(five*500)\n",
    "    if ammount>=200:\n",
    "        two=ammount//200\n",
    "        print(\"200 rupess notes are\",two)\n",
    "        ammount=ammount-(two*200)\n",
    "    if ammount>=100:\n",
    "        one=ammount//100\n",
    "        print(\"100 rupess notes are\",one)\n",
    "else:\n",
    "        print(\"Please enter amount in multiple of 100\")\n",
    "        \n"
   ]
  },
  {
   "cell_type": "code",
   "execution_count": null,
   "id": "4eb96b6a-5a56-40a7-9c5b-a000d95c4c49",
   "metadata": {},
   "outputs": [],
   "source": [
    "#Task 1\n",
    "#Accept Basic salary and find gross salary\n",
    "#gross salary =basic salary+DA+HRA\n",
    "\"\" If basic salary is less tah 20000 the\n",
    "     HRA is 76% and DA is 78% on basic salary\n",
    "     \n",
    "   if basic salary is between 20000 to 30000 then\n",
    "      HRA is 75% and DA is 82% on basic salary\n",
    "\n",
    "   if basic salary is more than 30000 then \n",
    "      HRA is 85% and DA is 89% on Basic salary  \"\""
   ]
  },
  {
   "cell_type": "code",
   "execution_count": 88,
   "id": "c097c92c-4814-4f5d-abb9-76cccf242204",
   "metadata": {},
   "outputs": [
    {
     "name": "stdin",
     "output_type": "stream",
     "text": [
      "Enter baisc salary 20000\n"
     ]
    }
   ],
   "source": [
    "basic=int(input(\"Enter baisc salary\"))\n",
    "\n",
    "if basic<=20000:\n",
    "    HRA=76\n",
    "    DA=78\n",
    "    gross=basic+HRA+DA\n",
    "    print(gross)\n",
    "elif basic>=20000 and basic<=30000:\n",
    "    HRA=75  \n",
    "    DA=82\n",
    "    gross=basic+HRA+DA\n",
    "    print(gross)\n",
    "elif basic>=30000:\n",
    "    HRA=85 \n",
    "    DA=89\n",
    "    gross=basic+HRA+DA\n",
    "    print(gross)\n",
    "else:\n",
    "    print(\"error\")"
   ]
  },
  {
   "cell_type": "code",
   "execution_count": null,
   "id": "2caeb0be-199f-45b6-ae46-222d99a9eb80",
   "metadata": {},
   "outputs": [],
   "source": [
    "# Task 2\n",
    "\"\"Accept Employee salary and calculate TDS amount\n",
    "\n",
    " if the salary is less than or equal to 500000--0%TDS\n",
    "\n",
    " if the salary is between 500000 to 1000000 then\n",
    "              500000 to 700000--5%\n",
    "              700000 to  1000000--10%\n",
    " if the salary is between 1000000 to 200000 then\n",
    "               500000 to 700000--5%\n",
    "               700000 to 100000---10%\n",
    "               1000000 to 1500000---15%\n",
    "               1500000 to 2000000--20%\n",
    "if the salary is more  than 3000000 then\n",
    "            500000 to 700000--5%\n",
    "            700000 to 1000000--10%\n",
    "            1000000 to 1500000--15%\n",
    "            1500000 to 2000000--20%\n",
    "             more than 2000000--30%\n",
    "\"\"   "
   ]
  },
  {
   "cell_type": "code",
   "execution_count": 99,
   "id": "31c891ab-bd32-4880-a674-372d1cb31f74",
   "metadata": {},
   "outputs": [
    {
     "ename": "IndentationError",
     "evalue": "unindent does not match any outer indentation level (<string>, line 24)",
     "output_type": "error",
     "traceback": [
      "\u001b[1;36m  File \u001b[1;32m<string>:24\u001b[1;36m\u001b[0m\n\u001b[1;33m    elif salary<=700000 and salary>=1000000:\u001b[0m\n\u001b[1;37m                                            ^\u001b[0m\n\u001b[1;31mIndentationError\u001b[0m\u001b[1;31m:\u001b[0m unindent does not match any outer indentation level\n"
     ]
    }
   ],
   "source": [
    "salary=int(input(\"enter your salary\"))\n",
    "tds=0\n",
    "if salary<=500000:\n",
    "    tds=0\n",
    "elif salary<=1000000:\n",
    "     if salary >=700000:\n",
    "         tds=(salary-500000)/100\n",
    "     elif salary>=1000000:\n",
    "         td2=td1+(salary*10)/1000\n",
    "         print(\"TDS:\",td2)\n",
    "elif salary<=2000000:\n",
    "     if salary<=500000 and salary>=700000:\n",
    "         tds1=(salary*5)/100\n",
    "     elif salary<=700000 and salary>=1000000:\n",
    "         td2=td1+(salary*10)/100\n",
    "     elif salary<=1000000 and salary>=1500000:\n",
    "         td3=tds1+tds2+(salary*15)/100\n",
    "     elif salary<=1500000 and salary>=2000000:\n",
    "         td4=td1+td2+td3+(salary*20)/100\n",
    "         print(\"TDS:\",td4)\n",
    "elif salary>=3000000:\n",
    "    if salary<=500000 and salary>=700000:\n",
    "         tds1=(salary*5)/100\n",
    "     elif salary<=700000 and salary>=1000000:\n",
    "         td2=td1+(salary*10)/100\n",
    "     elif salary<=1000000 and salary>=1500000:\n",
    "         td3=tds1+tds2+(salary*15)/100\n",
    "     elif salary<=1500000 and salary>=2000000:\n",
    "         td4=td1+td2+td3+(salary*20)/100\n",
    "    elif salary>=2000000:\n",
    "        td5=td1+td2+td3+td4+(salary*30)/100\n",
    "        print(\"TDS:\",td5)\n",
    "else:\n",
    "    print(\"error\")"
   ]
  },
  {
   "cell_type": "code",
   "execution_count": null,
   "id": "8ccc9774-a637-424f-bc18-1324e3617d29",
   "metadata": {},
   "outputs": [],
   "source": []
  }
 ],
 "metadata": {
  "kernelspec": {
   "display_name": "Python 3 (ipykernel)",
   "language": "python",
   "name": "python3"
  },
  "language_info": {
   "codemirror_mode": {
    "name": "ipython",
    "version": 3
   },
   "file_extension": ".py",
   "mimetype": "text/x-python",
   "name": "python",
   "nbconvert_exporter": "python",
   "pygments_lexer": "ipython3",
   "version": "3.12.4"
  }
 },
 "nbformat": 4,
 "nbformat_minor": 5
}
