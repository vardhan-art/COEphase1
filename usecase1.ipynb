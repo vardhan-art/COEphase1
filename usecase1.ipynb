{
 "cells": [
  {
   "cell_type": "code",
   "execution_count": 5,
   "id": "a3f28e7f-7a49-4305-a2ab-2cd866c133b9",
   "metadata": {},
   "outputs": [
    {
     "name": "stdin",
     "output_type": "stream",
     "text": [
      "Enter Prev units 4000\n",
      "Enter Pres units 3000\n"
     ]
    },
    {
     "name": "stdout",
     "output_type": "stream",
     "text": [
      "-509.0\n"
     ]
    }
   ],
   "source": [
    "prev=int(input(\"Enter Prev units\"))\n",
    "pres=int(input(\"Enter Pres units\"))\n",
    " \n",
    "units=pres-prev   \n",
    "bill=0\n",
    "if units<=50:\n",
    "    bill=units*0.50\n",
    "elif units<=150:\n",
    "    bill= 50*0.50+(units-50)*0.75\n",
    "elif units<=250:\n",
    "    bill=50*0.50+(100*0.75)+(units-150)*1.25\n",
    "else:\n",
    "    bill=50*0.50+(100*0.75)+(100*1.25)+(units-250)*2.50\n",
    " \n",
    " \n",
    "bill=bill+(bill*18)/100\n",
    "print(bill)"
   ]
  },
  {
   "cell_type": "code",
   "execution_count": null,
   "id": "427f0cd3-f817-4fb0-a75e-d05625ab4f9f",
   "metadata": {},
   "outputs": [],
   "source": [
    "1. Food – Smart Restaurant Billing with Meal Plans\n",
    "Scenario:\n",
    "A restaurant offers multiple meal plans (Veg, Non-Veg, Combo) and discounts on festivals.\n",
    " \n",
    "Requirements:\n",
    " \n",
    "Take user input: meal type, quantity, is today a festival (yes/no)\n",
    " \n",
    "Pricing:\n",
    " \n",
    "Veg: ₹150\n",
    " \n",
    "Non-Veg: ₹200\n",
    " \n",
    "Combo: ₹300\n",
    " \n",
    "Festival day → 10% discount\n",
    " \n",
    "If total bill > ₹1000 → add free dessert\n",
    " \n",
    "Add 5% GST on total\n",
    "\n",
    "-----------------------------------------------------------------------------------------------\n",
    "----------------------------------------------------------------------------------------------------------------------------\n",
    "veg = 150\n",
    "nonveg = 200\n",
    "combo = 300\n",
    "\n",
    "mealtype = input(\"veg or non veg or combo: \")\n",
    "quantity = int(input(\"Quantity: \"))\n",
    "festival = int(input(\"Is there a festival? (1 for Yes, 0 for No): \"))\n",
    "\n",
    "if mealtype == \"veg\":\n",
    "    price = veg\n",
    "elif mealtype ==  mealtype == \"nonveg\":\n",
    "    price = nonveg\n",
    "elif mealtype == \"combo\":\n",
    "    price = combo\n",
    "else:\n",
    "    print(\"Invalid meal type\")\n",
    "    \n",
    "bill = price * quantity\n",
    "\n",
    "if festival == 1:\n",
    "    bill = bill - (bill * 10) / 100\n",
    "    print(\"10% festival discount applied.\")\n",
    "else:\n",
    "    print(\"No  discount.\")\n",
    "    \n",
    "if bill >= 1000:\n",
    "    print(\"You got a free dessert!\")\n",
    "\n",
    "total_bill = bill + (bill * 5) / 100\n",
    "print(\"Total bill after 5% GST: ₹\", total_bill)    "
   ]
  },
  {
   "cell_type": "code",
   "execution_count": 3,
   "id": "e4d81707-1500-4af0-b707-09aa84c314d0",
   "metadata": {},
   "outputs": [
    {
     "name": "stdin",
     "output_type": "stream",
     "text": [
      "Enter your name vardhan\n",
      "% in 10th 70\n",
      "% in 10th 70\n",
      "% in 10th 85\n",
      "enter your family income 100000\n"
     ]
    },
    {
     "name": "stdout",
     "output_type": "stream",
     "text": [
      "Partial Scholarship\n"
     ]
    }
   ],
   "source": [
    "Education – Scholarship Eligibility Evaluator\n",
    "Scenario:\n",
    "University grants scholarships based on students’ marks and family income.\n",
    " \n",
    "Requirements:\n",
    " \n",
    "Input: student name, % in 10th, 12th, UG, family income\n",
    " \n",
    "Rules:\n",
    " \n",
    "85% in all and income < 3 LPA → Full Scholarship\n",
    " \n",
    "70% in UG and income < 5 LPA → Partial Scholarship\n",
    " \n",
    "Else → Not eligible\n",
    "\n",
    "\n",
    "studentname=input(\"Enter your name\")\n",
    "tenth=int(input(\"% in 10th\"))\n",
    "twe=int(input(\"% in 10th\"))\n",
    "ug=int(input(\"% in 10th\"))\n",
    "familyincome=int(input(\"enter your family income\"))\n",
    "\n",
    "if tenth>85 and twe>85 and ug>85 and familyincome<300000:\n",
    "    print(\"Full Scholarship\")\n",
    "elif  ug>70 and familyincome<500000:\n",
    "    print(\"Partial Scholarship\")\n",
    "else:\n",
    "    print(\"Not eligible\")\n",
    "\n",
    "\n"
   ]
  },
  {
   "cell_type": "code",
   "execution_count": null,
   "id": "d9542ebc-5c4d-48cc-bd38-e4fc9250f2d6",
   "metadata": {},
   "outputs": [],
   "source": []
  }
 ],
 "metadata": {
  "kernelspec": {
   "display_name": "Python 3 (ipykernel)",
   "language": "python",
   "name": "python3"
  },
  "language_info": {
   "codemirror_mode": {
    "name": "ipython",
    "version": 3
   },
   "file_extension": ".py",
   "mimetype": "text/x-python",
   "name": "python",
   "nbconvert_exporter": "python",
   "pygments_lexer": "ipython3",
   "version": "3.12.4"
  }
 },
 "nbformat": 4,
 "nbformat_minor": 5
}
