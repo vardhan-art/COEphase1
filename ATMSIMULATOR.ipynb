{
 "cells": [
  {
   "cell_type": "code",
   "execution_count": null,
   "id": "c2068d1c-3311-436b-aabc-8564936536a0",
   "metadata": {},
   "outputs": [],
   "source": [
    "Objective:\n",
    "Simulate basic ATM operations with validation and transaction rules.\n",
    "1. User must enter a valid 4-digit PIN to access ATM features.\n",
    " Features & Rules:\n",
    "PIN Validation\n",
    "I. User must enter the correct 4-digit PIN to proceed.\n",
    "I. Deposit\n",
    "1. Amount must be in multiples of ₹100.\n",
    "2. Maximum per transaction: ₹20,000.\n",
    "II. Withdraw\n",
    "1. Amount must be in multiples of ₹100.\n",
    "2. Must not exceed account balance.\n",
    "3.Maximum per transaction: ₹20,000.\n",
    "\n",
    "III. Balance Enquiry\n",
    "Display current balance to the user.\n",
    "\n",
    "Assignment Note:\n",
    "Implement each operation as a function, handle invalid inputs, and display clear messages. Initial balance can be assumed (e.g., ₹10,000)."
   ]
  },
  {
   "cell_type": "code",
   "execution_count": 5,
   "id": "58af3705-fc0f-45cc-896f-f2e89919bc99",
   "metadata": {},
   "outputs": [],
   "source": [
    "\n",
    "class bank:\n",
    "    pass\n",
    "    "
   ]
  },
  {
   "cell_type": "code",
   "execution_count": 10,
   "id": "9c787a71-4d53-4867-8138-e178d72f752b",
   "metadata": {},
   "outputs": [
    {
     "name": "stdin",
     "output_type": "stream",
     "text": [
      "Enter your pin:  1234\n"
     ]
    },
    {
     "name": "stdout",
     "output_type": "stream",
     "text": [
      "Valid pin\n",
      "\n",
      "1. Deposit\n",
      "2. Withdraw\n",
      "3. Balance\n",
      "\n"
     ]
    },
    {
     "name": "stdin",
     "output_type": "stream",
     "text": [
      "Enter your choice:  1\n",
      "Enter your amount to deposit (in multiples of 100):  5000\n"
     ]
    },
    {
     "name": "stdout",
     "output_type": "stream",
     "text": [
      "You deposited $5000.\n",
      "Total balance: $15000\n",
      "1. Deposit\n",
      "2. Withdraw\n",
      "3. Balance\n",
      "\n"
     ]
    },
    {
     "name": "stdin",
     "output_type": "stream",
     "text": [
      "Enter your choice:  1\n",
      "Enter your amount to deposit (in multiples of 100):  9\n"
     ]
    },
    {
     "name": "stdout",
     "output_type": "stream",
     "text": [
      "Please enter amount in multiples of 100.\n"
     ]
    }
   ],
   "source": [
    "class Bank:\n",
    "    def __init__(self):\n",
    "        self.pin = 1234\n",
    "        self.actbal = 10000\n",
    "\n",
    "    def validate(self):\n",
    "        opin = int(input(\"Enter your pin: \"))\n",
    "        if opin == self.pin:\n",
    "            print(\"Valid pin\\n\")\n",
    "            self.options()\n",
    "        else:\n",
    "            print(\"Invalid pin\")\n",
    "\n",
    "    def options(self):\n",
    "        print(\"1. Deposit\")\n",
    "        print(\"2. Withdraw\")\n",
    "        print(\"3. Balance\\n\")\n",
    "        choice = int(input(\"Enter your choice: \"))\n",
    "        if choice == 1:\n",
    "            self.deposit()\n",
    "        elif choice == 2:\n",
    "            self.withdraw()\n",
    "        elif choice == 3:\n",
    "            self.show_balance()\n",
    "        else:\n",
    "            print(\"Invalid choice\")\n",
    "\n",
    "    def deposit(self):\n",
    "        amount = int(input(\"Enter your amount to deposit (in multiples of 100): \"))\n",
    "        if amount % 100 != 0:\n",
    "            print(\"Please enter amount in multiples of 100.\")\n",
    "            return\n",
    "        if amount > 20000:\n",
    "            print(\"Maximum deposit limit is 20,000.\")\n",
    "            return\n",
    "        self.actbal += amount\n",
    "        print(f\"You deposited ${amount}.\")\n",
    "        print(f\"Total balance: ${self.actbal}\")\n",
    "        self.options()\n",
    "\n",
    "    def withdraw(self):\n",
    "        amount = int(input(\"Enter your amount to withdraw (in multiples of 100): \"))\n",
    "        if amount % 100 != 0:\n",
    "            print(\"Please enter amount in multiples of 100.\")\n",
    "            return\n",
    "        if amount > 20000:\n",
    "            print(\"Maximum withdrawal limit is 20,000.\")\n",
    "            return\n",
    "        if amount > self.actbal:\n",
    "            print(\"Insufficient balance.\")\n",
    "            return\n",
    "        self.actbal -= amount\n",
    "        print(f\"You withdrew ${amount}.\")\n",
    "        print(f\"Total balance: ${self.actbal}\")\n",
    "        self.options()\n",
    "\n",
    "    def show_balance(self):\n",
    "        print(f\"Current balance: ${self.actbal}\")\n",
    "        self.options()\n",
    "\n",
    "\n",
    "# Create object and start\n",
    "obj = Bank()\n",
    "obj.validate()\n"
   ]
  },
  {
   "cell_type": "code",
   "execution_count": 12,
   "id": "58131956-b0fd-41ea-9f90-bf05d85490ab",
   "metadata": {},
   "outputs": [
    {
     "name": "stdin",
     "output_type": "stream",
     "text": [
      "Enter your pin :  1234\n"
     ]
    },
    {
     "name": "stdout",
     "output_type": "stream",
     "text": [
      "1. Deposit \n",
      "2. Withdarw \n",
      "3. Bal Enquiry \n",
      "0. EXIT \n"
     ]
    },
    {
     "name": "stdin",
     "output_type": "stream",
     "text": [
      "Choose your option 1\n",
      "Enter deposit amount :  2000\n"
     ]
    },
    {
     "name": "stdout",
     "output_type": "stream",
     "text": [
      "Avaialble bal is :  12000\n"
     ]
    },
    {
     "name": "stdin",
     "output_type": "stream",
     "text": [
      "1.Continue  \n",
      " 0. EXIT  1\n"
     ]
    },
    {
     "name": "stdout",
     "output_type": "stream",
     "text": [
      "1. Deposit \n",
      "2. Withdarw \n",
      "3. Bal Enquiry \n",
      "0. EXIT \n"
     ]
    },
    {
     "name": "stdin",
     "output_type": "stream",
     "text": [
      "Choose your option 2\n",
      "Enter withdraw amount :  10000\n"
     ]
    },
    {
     "name": "stdout",
     "output_type": "stream",
     "text": [
      "Avalilable bal is :  2000\n"
     ]
    },
    {
     "name": "stdin",
     "output_type": "stream",
     "text": [
      "1.Continue  \n",
      " 0. EXIT  1\n"
     ]
    },
    {
     "name": "stdout",
     "output_type": "stream",
     "text": [
      "1. Deposit \n",
      "2. Withdarw \n",
      "3. Bal Enquiry \n",
      "0. EXIT \n"
     ]
    },
    {
     "name": "stdin",
     "output_type": "stream",
     "text": [
      "Choose your option 2\n",
      "Enter withdraw amount :  100\n"
     ]
    },
    {
     "name": "stdout",
     "output_type": "stream",
     "text": [
      "Avalilable bal is :  1900\n"
     ]
    },
    {
     "name": "stdin",
     "output_type": "stream",
     "text": [
      "1.Continue  \n",
      " 0. EXIT  2\n"
     ]
    },
    {
     "name": "stdout",
     "output_type": "stream",
     "text": [
      "Thank you, Visit again \n"
     ]
    }
   ],
   "source": [
    "class Bank:\n",
    "    pin=1234\n",
    "    pincount=1\n",
    "    acbal=10000\n",
    "    wcount=0\n",
    "    def viewOptions(self):\n",
    "        print(\"1. Deposit \")\n",
    "        print(\"2. Withdarw \")\n",
    "        print(\"3. Bal Enquiry \")\n",
    "        print(\"0. EXIT \")\n",
    "        opt=int(input(\"Choose your option\"))\n",
    "        if opt==1:\n",
    "            obj.deposit()\n",
    "            obj.confirm()\n",
    "        elif opt==2:\n",
    "            if self.wcount<3:\n",
    "                obj.withdraw()\n",
    "                obj.confirm()\n",
    "            else:\n",
    "                print(\"Withdraw limit is over, please try after 24 hrs\")\n",
    "        \n",
    "    \n",
    "    def validate(self):\n",
    "        pin=int(input(\"Enter your pin : \"))\n",
    "        if self.pin==pin:\n",
    "           obj.viewOptions()\n",
    "        else:\n",
    "            self.pincount+=1\n",
    "            if self.pincount<=3:\n",
    "                print(\"Invalid pin, please try again\")\n",
    "                obj.validate()\n",
    "            else:\n",
    "                print(\"Your card is blocked for the day\")\n",
    "    def deposit(self):\n",
    "        amt=int(input(\"Enter deposit amount : \"))\n",
    "        if amt%100==0:\n",
    "            if amt<=50000:\n",
    "                self.acbal+=amt\n",
    "                print(\"Avaialble bal is : \",self.acbal)\n",
    "            else:\n",
    "                print(\"Transaction limit is 20000 only\")\n",
    "                \n",
    "        else:\n",
    "            print(\"Please enter multiples of 100 \")\n",
    "        \n",
    "    def confirm(self):\n",
    "        opt=int(input(\"1.Continue  \\n 0. EXIT \"))\n",
    "        if opt==1:\n",
    "                obj.viewOptions()\n",
    "        else:\n",
    "            print(\"Thank you, Visit again \")\n",
    "    def withdraw(self):\n",
    "        amt=int(input(\"Enter withdraw amount : \"))\n",
    "        if amt%100==0:\n",
    "            if amt<=self.acbal:\n",
    "                if amt<=20000:\n",
    "                    self.acbal-=amt\n",
    "                    self.wcount+=1\n",
    "                    print(\"Avalilable bal is : \",self.acbal)\n",
    "                        \n",
    "                else:\n",
    "                    print(\"Transaction limit is 20000 only\")\n",
    "            else:\n",
    "                print(\"insuffient fund \")\n",
    "        else:\n",
    "            print(\"Please enter multiples of 100 only\")\n",
    "            \n",
    "            \n",
    "obj=Bank()\n",
    "obj.validate()"
   ]
  },
  {
   "cell_type": "code",
   "execution_count": null,
   "id": "2d3f001b-f4b8-4ee0-aea5-d05ffb4e8567",
   "metadata": {},
   "outputs": [],
   "source": []
  }
 ],
 "metadata": {
  "kernelspec": {
   "display_name": "Python 3 (ipykernel)",
   "language": "python",
   "name": "python3"
  },
  "language_info": {
   "codemirror_mode": {
    "name": "ipython",
    "version": 3
   },
   "file_extension": ".py",
   "mimetype": "text/x-python",
   "name": "python",
   "nbconvert_exporter": "python",
   "pygments_lexer": "ipython3",
   "version": "3.12.4"
  }
 },
 "nbformat": 4,
 "nbformat_minor": 5
}
