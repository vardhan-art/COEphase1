{
 "cells": [
  {
   "cell_type": "code",
   "execution_count": 19,
   "id": "64b7affd-5cdf-4f5d-b480-4cc104052932",
   "metadata": {},
   "outputs": [
    {
     "name": "stdout",
     "output_type": "stream",
     "text": [
      "COUNT =  5\n"
     ]
    }
   ],
   "source": [
    "num=23219 # find number of digits\n",
    "c=0\n",
    "while num!=0:\n",
    "    num=num//10\n",
    "    c=c+1\n",
    "print(\"COUNT = \",c)"
   ]
  },
  {
   "cell_type": "code",
   "execution_count": 21,
   "id": "b79a291e-ee0c-441f-94ae-c21fadd6d035",
   "metadata": {},
   "outputs": [
    {
     "name": "stdout",
     "output_type": "stream",
     "text": [
      "Even 4\n",
      "Odd 2\n"
     ]
    }
   ],
   "source": [
    "#print no.of even digits and  no. of odd digits \n",
    "num=783781\n",
    "rem=0\n",
    "e=0\n",
    "o=0\n",
    "while num!=0:\n",
    "    rem=num%2==0\n",
    "    if rem%2==0:\n",
    "        o=o+1\n",
    "    else:\n",
    "        e=e+1\n",
    "    num=num//10\n",
    "print(\"Even\",e)\n",
    "print(\"Odd\",o)"
   ]
  },
  {
   "cell_type": "code",
   "execution_count": 31,
   "id": "0969d68f-a11e-46dc-99ac-3228706f85d1",
   "metadata": {},
   "outputs": [
    {
     "name": "stdout",
     "output_type": "stream",
     "text": [
      "Even 2\n",
      "Odd 4\n",
      "esum 16\n",
      "osum 18\n"
     ]
    }
   ],
   "source": [
    "#print no. of even digits and  no. of odd digits  and do the sum   \n",
    "num=783781\n",
    "rem=0\n",
    "e=0\n",
    "o=0\n",
    "esum=0\n",
    "osum=0\n",
    "while num!=0:\n",
    "    rem=num%10\n",
    "    if rem%2==0:\n",
    "        esum=esum+rem\n",
    "        e=e+1\n",
    "    else:\n",
    "        osum=osum+rem\n",
    "        o=o+1\n",
    "    num=num//10\n",
    "print(\"Even\",e)\n",
    "print(\"Odd\",o)\n",
    "print(\"esum\",esum)\n",
    "print(\"osum\",osum)"
   ]
  },
  {
   "cell_type": "code",
   "execution_count": 3,
   "id": "a70c58fa-8e38-4657-b32b-ff624fa91696",
   "metadata": {
    "scrolled": true
   },
   "outputs": [
    {
     "name": "stdout",
     "output_type": "stream",
     "text": [
      "Not Prime\n"
     ]
    }
   ],
   "source": [
    "#prime number between 1-100 using while loop\n",
    "num=50\n",
    "i=1\n",
    "count=0\n",
    "while i<=num//2:\n",
    "    if num%i==0:\n",
    "        count=count+1\n",
    "    i=i+1\n",
    "if count==1:\n",
    "    print(\"Prime\")\n",
    "else:\n",
    "    print(\"Not Prime\")"
   ]
  },
  {
   "cell_type": "code",
   "execution_count": null,
   "id": "ce9b9be7-b724-489c-84ec-d84e8abd781c",
   "metadata": {},
   "outputs": [],
   "source": [
    "while:\n",
    "\n",
    "WAP to print 1-10 numbers\n",
    "\n",
    "WAP to print 10-1 numbers\n",
    "\n",
    "WAP to print 1-N number\n",
    "\n",
    "WAP to accept start and stop value and print between numbers\n",
    "\n",
    "WAP to accept number and print number of factors\n",
    "\n",
    "WAP to accept number and check it is prime or not\n",
    "\n",
    "WAP to accept start and stop value and print prime numbers between them\n",
    "\n",
    "WAP to print reverse of a given number\n",
    "\n",
    "WAP to print number of digits of a given number\n",
    "\n",
    "WAP to print sum of first and last digit of a given number\n",
    "\n",
    "WAP to print count and sum of even and odd digits\n",
    "\n",
    "WAP to check given number is armstong number or not\n",
    "\n",
    "WAP to check given number is strong number or not"
   ]
  },
  {
   "cell_type": "code",
   "execution_count": 15,
   "id": "22a36103-5056-468b-ba4d-f2bc37ab966b",
   "metadata": {},
   "outputs": [
    {
     "name": "stdout",
     "output_type": "stream",
     "text": [
      "Hi this is vardhan \n",
      "from ACE\n",
      "HI THIS IS VARDHAN \n",
      "FROM ACE\n",
      "hi this is vardhan \n",
      "from ace\n",
      "Hi This Is Vardhan \n",
      "From Ace\n",
      "Hi this is vardhan \n",
      "from ace\n"
     ]
    }
   ],
   "source": [
    "## string\n",
    "str='''Hi this is vardhan \n",
    "from ACE'''\n",
    "print(str)\n",
    "print(str.upper())\n",
    "print(str.lower())\n",
    "print(str.title())\n",
    "print(str.capitalize())"
   ]
  },
  {
   "cell_type": "code",
   "execution_count": 29,
   "id": "3a827459-efa7-4888-a5b9-7d13fa5fe3e9",
   "metadata": {},
   "outputs": [
    {
     "name": "stdout",
     "output_type": "stream",
     "text": [
      "Hi this is vardhan"
     ]
    }
   ],
   "source": [
    "str='''Hi this is vardhan'''\n",
    "for i in str:\n",
    "    print(i,end=\"\")"
   ]
  },
  {
   "cell_type": "code",
   "execution_count": null,
   "id": "b8c96f34-75a7-4e12-bc1d-3ac60b25f0f3",
   "metadata": {},
   "outputs": [],
   "source": [
    "no.of diigts\n",
    "no.of alphabets\n",
    "no.of vowels\n",
    "no.of special char\n",
    "no.of space"
   ]
  },
  {
   "cell_type": "code",
   "execution_count": 63,
   "id": "5e9dc366-319f-45da-b03b-2860f8a84f32",
   "metadata": {},
   "outputs": [
    {
     "name": "stdout",
     "output_type": "stream",
     "text": [
      "no.of diigts 5\n",
      "no.of alphabets 18\n",
      "no.of vowels 6\n",
      "no.of space 5\n",
      "no.of special char 4\n"
     ]
    }
   ],
   "source": [
    "str = \"HI hello 12345 this ^&%* vardhan\"\n",
    "d=0\n",
    "a=0\n",
    "v=0\n",
    "sp=0\n",
    "special=0\n",
    "\n",
    "for char in str:\n",
    "    if char.isdigit():\n",
    "        d+= 1\n",
    "    elif char.isalpha():\n",
    "        a+= 1\n",
    "        if char.lower() in \"aeiou\":\n",
    "            v += 1\n",
    "    elif char.isspace():\n",
    "        sp+= 1\n",
    "    else:\n",
    "        special += 1\n",
    "print(\"no.of diigts\",d)\n",
    "print(\"no.of alphabets\",a)\n",
    "print(\"no.of vowels\",v)\n",
    "print(\"no.of space\",sp)\n",
    "print(\"no.of special char\",special)\n",
    "    "
   ]
  },
  {
   "cell_type": "code",
   "execution_count": null,
   "id": "0a196613-1667-4cd9-b806-99ad7c63f060",
   "metadata": {},
   "outputs": [],
   "source": []
  }
 ],
 "metadata": {
  "kernelspec": {
   "display_name": "Python 3 (ipykernel)",
   "language": "python",
   "name": "python3"
  },
  "language_info": {
   "codemirror_mode": {
    "name": "ipython",
    "version": 3
   },
   "file_extension": ".py",
   "mimetype": "text/x-python",
   "name": "python",
   "nbconvert_exporter": "python",
   "pygments_lexer": "ipython3",
   "version": "3.12.4"
  }
 },
 "nbformat": 4,
 "nbformat_minor": 5
}
